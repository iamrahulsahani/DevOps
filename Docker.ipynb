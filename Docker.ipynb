{
 "cells": [
  {
   "cell_type": "markdown",
   "id": "4f0c7f8e",
   "metadata": {},
   "source": [
    "# Dockerfile\n",
    "\n",
    "A Dockerfile is a text document that contains all the commands a user could call on the CLI to create an image."
   ]
  },
  {
   "cell_type": "markdown",
   "id": "134b0a26",
   "metadata": {},
   "source": [
    "# Docker Image\n",
    "A Docker image is a template file to create a container. it contains set of instructions to build a Docker container. it has several layers & aach layer, is a complete image in itself."
   ]
  },
  {
   "cell_type": "markdown",
   "id": "2c38d877",
   "metadata": {},
   "source": [
    "# Docker Container\n",
    "Docker Containers are the ready applications created from Docker Images. they are running instances of the Images and they hold the entire package needed to run the application."
   ]
  },
  {
   "cell_type": "markdown",
   "id": "5ae53039",
   "metadata": {},
   "source": [
    "#        <center>   Docker Commands        <center>"
   ]
  },
  {
   "cell_type": "markdown",
   "id": "0fc97044",
   "metadata": {},
   "source": [
    "<h1>To Check Docker Version</h1>  <br><b>docker -v / docker --version</b> :To see docker version."
   ]
  },
  {
   "cell_type": "markdown",
   "id": "b5778f50",
   "metadata": {},
   "source": [
    "<h1>To Check Docker System Info</h1>  <br><b>docker info</b> :To see docker system-wide information"
   ]
  },
  {
   "cell_type": "markdown",
   "id": "afc7a708",
   "metadata": {},
   "source": [
    "<h1>To check service is started or not</h1>  <br><b>service docker status</b> :To check current status of service."
   ]
  },
  {
   "cell_type": "markdown",
   "id": "ecd5a516",
   "metadata": {},
   "source": [
    "<h1>To start Docker</h1>  <br><b>service docker start</b> :To start docker."
   ]
  },
  {
   "cell_type": "markdown",
   "id": "e72b3e6a",
   "metadata": {},
   "source": [
    "<h1>To list images</h1>  <br><b>docker images</b> :To see all images present in your local machine."
   ]
  },
  {
   "cell_type": "markdown",
   "id": "6e517deb",
   "metadata": {},
   "source": [
    "<h1>To find images in Docker Hub</h1>  <br><b>docker search jenkins</b> :To fetch images from docker hub."
   ]
  },
  {
   "cell_type": "markdown",
   "id": "74af3014",
   "metadata": {},
   "source": [
    "<h1>To Download images from Docker Hub</h1>  <br><b>docker pull image_name</b> :To download images from docker hub to your local machine."
   ]
  },
  {
   "cell_type": "markdown",
   "id": "3ba54535",
   "metadata": {},
   "source": [
    "<h1>To Create & Run Container</h1>  <br><b>docker run -it image-name</b> :To create container(if not in  your local machine, it will get it from hub)<br>Note : it will automatically go inside container."
   ]
  },
  {
   "cell_type": "markdown",
   "id": "0ca5b7b4",
   "metadata": {},
   "source": [
    "<h1>To Give name to a container</h1>  <br><b>docker run -it --name rahul-container linux /bin/bash</b> : To set container name.\n",
    "<br> -i = interactive mode<br> -t = virtual terminal<br> docker run is combination of create + start"
   ]
  },
  {
   "cell_type": "markdown",
   "id": "50eab354",
   "metadata": {},
   "source": [
    "<h1>To rename a container</h1>  <br><b>docker rename old_c new_c </b> :To rename container."
   ]
  },
  {
   "cell_type": "markdown",
   "id": "6c585711",
   "metadata": {},
   "source": [
    "<h1>To start container</h1>  <br><b>docker start container-name</b> :To start container."
   ]
  },
  {
   "cell_type": "markdown",
   "id": "9c37eb5e",
   "metadata": {},
   "source": [
    "<h1>To Go inside container</h1>  <br><b>docker attach container-name</b> :To Go inside container (container must be started)."
   ]
  },
  {
   "cell_type": "markdown",
   "id": "ee60de62",
   "metadata": {},
   "source": [
    "<h1>To see all container</h1>  <br><b>docker ps -a</b> :To see all container.(including container which is not started)<br>ps = process status <br> -a = all"
   ]
  },
  {
   "cell_type": "markdown",
   "id": "9d873d39",
   "metadata": {},
   "source": [
    "<h1>To see all running container</h1>  <br><b>docker ps</b> :To see running container only (excluding container which is not started)"
   ]
  },
  {
   "cell_type": "markdown",
   "id": "1639f310",
   "metadata": {},
   "source": [
    "<h1>To stop container</h1>  <br><b>docker stop container-name</b> :To stop running container (first come outside of container)"
   ]
  },
  {
   "cell_type": "markdown",
   "id": "21f55f49",
   "metadata": {},
   "source": [
    "<h1>To delete container</h1>  <br><b>docker rm container-name</b> :To  delete container(container must be stopped)"
   ]
  },
  {
   "cell_type": "markdown",
   "id": "3313b413",
   "metadata": {},
   "source": [
    "<h1>To exit container</h1>  <br><b>exit</b> :To get out of container."
   ]
  },
  {
   "cell_type": "code",
   "execution_count": null,
   "id": "39831f24",
   "metadata": {},
   "outputs": [],
   "source": []
  },
  {
   "cell_type": "markdown",
   "id": "805e60be",
   "metadata": {},
   "source": [
    "# To create image from Dockerfile"
   ]
  },
  {
   "cell_type": "markdown",
   "id": "37590868",
   "metadata": {},
   "source": [
    "# To map docker port\n",
    "docker run -it -p 9001:80 ubuntu : for mapping dock port"
   ]
  },
  {
   "cell_type": "markdown",
   "id": "160eace3",
   "metadata": {},
   "source": [
    "# To Run container in background\n",
    "docker run -it -p 9001:80 -d ubuntu : For backround run of container"
   ]
  },
  {
   "cell_type": "markdown",
   "id": "b0463427",
   "metadata": {},
   "source": [
    "# To Run a command inside a container\n",
    "\n",
    "docker exec e51f7e19df33 apt-get update"
   ]
  },
  {
   "cell_type": "markdown",
   "id": "e94f5831",
   "metadata": {},
   "source": [
    "# To Pause Container\n",
    "docker pause c_id"
   ]
  },
  {
   "cell_type": "markdown",
   "id": "c6a0f011",
   "metadata": {},
   "source": [
    "# To Resume Container\n",
    "docker unpause c_id"
   ]
  },
  {
   "cell_type": "markdown",
   "id": "96f11596",
   "metadata": {},
   "source": [
    "# To Conncet Volume of container\n",
    "docker run -it -d -p 9000:80 -v C:\\Users\\HP\\Documents\\dockertest:/var/www/html ubuntu : to connect container volume with local volume"
   ]
  },
  {
   "cell_type": "markdown",
   "id": "8d266053",
   "metadata": {},
   "source": [
    "# To buld image from Dockerfile\n",
    "\n",
    "docker build Dockerfile -t nginx-ubuntu:1.0"
   ]
  },
  {
   "cell_type": "markdown",
   "id": "c82c81f9",
   "metadata": {},
   "source": [
    "# Dockerfile\n",
    "\n",
    "FROM ubuntu\n",
    "\n",
    "RUN apt-get update\n",
    "\n",
    "RUN apt-get install nginx -y\n",
    "\n",
    "CMD [\"nginx\", \"-g\", \"daemon off;\"]"
   ]
  },
  {
   "cell_type": "markdown",
   "id": "79140e5f",
   "metadata": {},
   "source": [
    "# To list docker volumes\n",
    "\n",
    "docker volume ls"
   ]
  },
  {
   "cell_type": "markdown",
   "id": "e0447206",
   "metadata": {},
   "source": [
    "# To remove unused docker volumes\n",
    "docker volume prune"
   ]
  },
  {
   "cell_type": "markdown",
   "id": "99239364",
   "metadata": {},
   "source": [
    "# To create docker volume\n",
    "\n",
    "docker volume create name"
   ]
  },
  {
   "cell_type": "markdown",
   "id": "ed6658a6",
   "metadata": {},
   "source": [
    "# To list docker networks\n",
    "docker network ls"
   ]
  },
  {
   "cell_type": "markdown",
   "id": "c88853d0",
   "metadata": {},
   "source": [
    "# To create docker network\n",
    "docker network create test-net"
   ]
  },
  {
   "cell_type": "markdown",
   "id": "05cd48d4",
   "metadata": {},
   "source": [
    "# To connect conatiner with network\n",
    "\n",
    "docker network connect network_name container_name"
   ]
  },
  {
   "cell_type": "code",
   "execution_count": null,
   "id": "91710b30",
   "metadata": {},
   "outputs": [],
   "source": []
  }
 ],
 "metadata": {
  "kernelspec": {
   "display_name": "Python 3 (ipykernel)",
   "language": "python",
   "name": "python3"
  },
  "language_info": {
   "codemirror_mode": {
    "name": "ipython",
    "version": 3
   },
   "file_extension": ".py",
   "mimetype": "text/x-python",
   "name": "python",
   "nbconvert_exporter": "python",
   "pygments_lexer": "ipython3",
   "version": "3.10.4"
  }
 },
 "nbformat": 4,
 "nbformat_minor": 5
}
