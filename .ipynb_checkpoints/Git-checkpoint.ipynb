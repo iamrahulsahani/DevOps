{
 "cells": [
  {
   "cell_type": "markdown",
   "id": "46ed5b07",
   "metadata": {},
   "source": [
    "#        <center>   GIT        <center>"
   ]
  },
  {
   "cell_type": "markdown",
   "id": "dfae0008",
   "metadata": {},
   "source": [
    "# Initial Commands"
   ]
  },
  {
   "cell_type": "markdown",
   "id": "7a92a8c6",
   "metadata": {},
   "source": [
    "Git init : To initialize the git\n",
    "git config --global user.name \"rahul.sahani\" : to set username\n",
    "git config --global user.email \"rahul@gmail.com\" : to set email\n",
    "\n",
    "git status: to check latest status of working & staging area.\n",
    "\n",
    "git add <file name> : to add a single file to staging area.\n",
    "git add . : to add all files of current working directory to staging area.\n",
    "git add --all : to add all files from any directory/sub directory.\n",
    "\n",
    "git commit -m \"added this code\" : to move changes from staging area to local repo.\n",
    "\n",
    "git push origin <branch name>: to push code from local repo to a specific branch"
   ]
  },
  {
   "cell_type": "markdown",
   "id": "3c190f79",
   "metadata": {},
   "source": [
    "# Branches commands"
   ]
  },
  {
   "cell_type": "raw",
   "id": "2a847f0f",
   "metadata": {},
   "source": [
    "git branch: to check current branch\n",
    "git branch -a : to list all of your current branches\n",
    "git branch <branch name> : to create a new branch\n",
    "git branch -d <develop> : to delete the local branch\n",
    "git push -d origin <develop> : to delete the remote develop branch"
   ]
  },
  {
   "cell_type": "markdown",
   "id": "82f95385",
   "metadata": {},
   "source": [
    "# Commands to check logs"
   ]
  },
  {
   "cell_type": "raw",
   "id": "4b0588ea",
   "metadata": {},
   "source": [
    "git log : to get list of all commits\n",
    "git log -l : to get the latest commit\n",
    "git log 2 : to get the latest 2 commits\n",
    "git log --oneline : to display the output as one commit per line\n",
    "git log --grep \"text to be searched\" : to filter commits on the basis of message"
   ]
  },
  {
   "cell_type": "markdown",
   "id": "4bf0456c",
   "metadata": {},
   "source": [
    "# Branch switching commands"
   ]
  },
  {
   "cell_type": "raw",
   "id": "930197ea",
   "metadata": {},
   "source": [
    "git checkout <branch name> : to switch branch\n",
    "git checkout -b <branch name> : to create a new branch & checkout to that new branch"
   ]
  },
  {
   "cell_type": "markdown",
   "id": "f2865a5a",
   "metadata": {},
   "source": [
    "# Stashing Commands"
   ]
  },
  {
   "cell_type": "raw",
   "id": "09ba310a",
   "metadata": {},
   "source": [
    "git stash: it locally stores all the most recent changes in a workspace.\n",
    "git stash list : to see stashed items list\n",
    "git stash apply stash@{1} : to apply stashed changes\n",
    "git stash clear: to clear stashed items"
   ]
  },
  {
   "cell_type": "markdown",
   "id": "0a70b9a7",
   "metadata": {},
   "source": [
    "# Commands to reset changes"
   ]
  },
  {
   "cell_type": "raw",
   "id": "7df51c82",
   "metadata": {},
   "source": [
    "git reset <file name>: to move changes of a file back from staging area to working area\n",
    "git reset . : to move all changes of current working directory back from staging area to working area\n",
    "git reset --hard : to reset all changes from staging area & working area"
   ]
  },
  {
   "cell_type": "markdown",
   "id": "beb9619e",
   "metadata": {},
   "source": [
    "# Configurations Checking commands"
   ]
  },
  {
   "cell_type": "raw",
   "id": "c04a6b6c",
   "metadata": {},
   "source": [
    "git config --list : to check global git configurations\n",
    "git config --list --show-origin : to check where the configurations is defined."
   ]
  },
  {
   "cell_type": "markdown",
   "id": "a945f18c",
   "metadata": {},
   "source": [
    "# Deletion commands"
   ]
  },
  {
   "cell_type": "raw",
   "id": "bcb0f90c",
   "metadata": {},
   "source": [
    "git rm <file name>: to remove a file from staging area.\n",
    "\n",
    "git clean -n: it deletes untracked files in a repo's working directory(asks for permission)\n",
    "git clean -f: it deletes untracked files in a repo's working directory(permission not required)"
   ]
  },
  {
   "cell_type": "markdown",
   "id": "b0bf84d7",
   "metadata": {},
   "source": [
    "# Commands for tags"
   ]
  },
  {
   "cell_type": "raw",
   "id": "0e5b8696",
   "metadata": {},
   "source": [
    "git tag -a <tagname> -m <message> <commit id> : to add a tag\n",
    "git tag : to get list of tags\n",
    "git show <tagname> : to see commits for a particular tag\n",
    "git tag -d <tagname> : to delete a tag"
   ]
  },
  {
   "cell_type": "markdown",
   "id": "ac790e20",
   "metadata": {},
   "source": [
    "# Ignore commands"
   ]
  },
  {
   "cell_type": "raw",
   "id": "825599cf",
   "metadata": {},
   "source": [
    ".gitignore :  to restrict git from tracking files inside gitignore\n",
    "create gitignorefile & write below lines.\n",
    "# ignore ALL .log files\n",
    "*.log\n",
    "# ignore ALL files in ANY directory named temp\n",
    "temp/"
   ]
  },
  {
   "cell_type": "markdown",
   "id": "2cf9ec19",
   "metadata": {},
   "source": [
    "# Some important commands"
   ]
  },
  {
   "cell_type": "raw",
   "id": "45ddb75a",
   "metadata": {},
   "source": [
    "git merge <branch name> : to merge current branch to the branch from which it was created\n",
    "\n",
    "git show <commit id>: to show changes made in a particular commit.\n",
    "    \n",
    "git remote add origin <url> : It pushes your code into the Git repository using remote URL of GitHub.\n",
    "\n",
    "git clone <url> : to create local repo in a machine"
   ]
  },
  {
   "cell_type": "code",
   "execution_count": null,
   "id": "96a99f1c",
   "metadata": {},
   "outputs": [],
   "source": []
  }
 ],
 "metadata": {
  "kernelspec": {
   "display_name": "Python 3 (ipykernel)",
   "language": "python",
   "name": "python3"
  },
  "language_info": {
   "codemirror_mode": {
    "name": "ipython",
    "version": 3
   },
   "file_extension": ".py",
   "mimetype": "text/x-python",
   "name": "python",
   "nbconvert_exporter": "python",
   "pygments_lexer": "ipython3",
   "version": "3.10.4"
  }
 },
 "nbformat": 4,
 "nbformat_minor": 5
}
