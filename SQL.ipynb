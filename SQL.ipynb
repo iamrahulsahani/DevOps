{
 "cells": [
  {
   "cell_type": "markdown",
   "id": "4937bf86",
   "metadata": {},
   "source": [
    "# Select"
   ]
  },
  {
   "cell_type": "raw",
   "id": "11e4c7eb",
   "metadata": {},
   "source": [
    "SELECT * FROM table;"
   ]
  },
  {
   "cell_type": "markdown",
   "id": "bb2ce156",
   "metadata": {},
   "source": [
    "# Distinct"
   ]
  },
  {
   "cell_type": "raw",
   "id": "e9717bea",
   "metadata": {},
   "source": [
    "SELECT DISTINCT country FROM customers;"
   ]
  },
  {
   "cell_type": "markdown",
   "id": "5166efcc",
   "metadata": {},
   "source": [
    "# Where"
   ]
  },
  {
   "cell_type": "raw",
   "id": "c6ade1c9",
   "metadata": {},
   "source": [
    "SELECT * FROM customers FROM country='india';"
   ]
  },
  {
   "cell_type": "markdown",
   "id": "b779b386",
   "metadata": {},
   "source": [
    "# AND"
   ]
  },
  {
   "cell_type": "raw",
   "id": "b9307b4d",
   "metadata": {},
   "source": [
    "SELECT * FROM customers WHERE country='india' AND city='jabalpur'; "
   ]
  },
  {
   "cell_type": "markdown",
   "id": "7f759b18",
   "metadata": {},
   "source": [
    "# OR"
   ]
  },
  {
   "cell_type": "raw",
   "id": "a4d87687",
   "metadata": {},
   "source": [
    "SELECT * FROM customers WHERE country='india' OR country='russia';"
   ]
  },
  {
   "cell_type": "markdown",
   "id": "8077f535",
   "metadata": {},
   "source": [
    "# NOT"
   ]
  },
  {
   "cell_type": "raw",
   "id": "03625737",
   "metadata": {},
   "source": [
    "SELECT * FROM customers WHERE NOT country='india';"
   ]
  },
  {
   "cell_type": "markdown",
   "id": "d1998e42",
   "metadata": {},
   "source": [
    "# ORDER BY"
   ]
  },
  {
   "cell_type": "raw",
   "id": "61b7db19",
   "metadata": {},
   "source": [
    "SELECT * FROM customers ORDER BY country,city DESC;"
   ]
  },
  {
   "cell_type": "code",
   "execution_count": null,
   "id": "84ac6c7c",
   "metadata": {},
   "outputs": [],
   "source": []
  }
 ],
 "metadata": {
  "kernelspec": {
   "display_name": "Python 3 (ipykernel)",
   "language": "python",
   "name": "python3"
  },
  "language_info": {
   "codemirror_mode": {
    "name": "ipython",
    "version": 3
   },
   "file_extension": ".py",
   "mimetype": "text/x-python",
   "name": "python",
   "nbconvert_exporter": "python",
   "pygments_lexer": "ipython3",
   "version": "3.10.4"
  }
 },
 "nbformat": 4,
 "nbformat_minor": 5
}
